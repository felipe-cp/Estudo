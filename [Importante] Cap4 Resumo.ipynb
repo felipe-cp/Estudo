{
 "cells": [
  {
   "cell_type": "code",
   "execution_count": 1,
   "metadata": {},
   "outputs": [
    {
     "data": {
      "text/plain": [
       "[32.0, 72.5, 104.0, 212.0]"
      ]
     },
     "execution_count": 1,
     "metadata": {},
     "output_type": "execute_result"
    }
   ],
   "source": [
    "# Função 1, converte uma temperatura em Fahrenheit\n",
    "def fahrenheit(T):\n",
    "    return ((float(9)/5)*T+32)\n",
    "# Função 2, converte uma temperatura em Celsius\n",
    "def celsius(T):\n",
    "    return (float(5)/9)*(T-32)\n",
    "# Criando uma lista de valores\n",
    "temperatura = [0, 22.5, 40, 100, 32.8, 36.5]\n",
    "# Aplicando a função MAP, ela recebe como parametro uma função e uma lista e executa a função em cada elemento da lista\n",
    "# A função list() coverte o resultado da função map em uma lista\n",
    "list(map(fahrenheit, temperatura))"
   ]
  },
  {
   "cell_type": "code",
   "execution_count": 9,
   "metadata": {},
   "outputs": [
    {
     "data": {
      "text/plain": [
       "'python'"
      ]
     },
     "execution_count": 9,
     "metadata": {},
     "output_type": "execute_result"
    }
   ],
   "source": [
    "# Para usar a função reuce, é necessário importar\n",
    "from functools import reduce\n",
    "lista1 = [56, 40, 37, 8]\n",
    "def soma(a,b):\n",
    "    x = a+b\n",
    "    return x\n",
    "# A função reduce aplicará a função soma em todos os elementos da lista e reornará a soma total acumulada\n",
    "reduce(soma, lista)"
   ]
  },
  {
   "cell_type": "code",
   "execution_count": 11,
   "metadata": {},
   "outputs": [
    {
     "data": {
      "text/plain": [
       "[18, 22, 100, 168, 2, 6, 500, 24, 72]"
      ]
     },
     "execution_count": 11,
     "metadata": {},
     "output_type": "execute_result"
    }
   ],
   "source": [
    "# Função filter\n",
    "def verifica_par(num):\n",
    "    if num % 2 == 0:\n",
    "        return True\n",
    "    else:\n",
    "        return False\n",
    "lista2 = [55, 18, 22, 100, 168, 2, 7, 13, 17, 19, 49, 6, 5, 500, 24, 72, 75, 99]\n",
    "# A função filter recebe dois parametros uma função e uma lista. Ela aplica a função na lista e retorna o resultado do que for verdadeiro\n",
    "list(filter(verifica_par, lista2))"
   ]
  },
  {
   "cell_type": "code",
   "execution_count": 14,
   "metadata": {},
   "outputs": [
    {
     "name": "stdout",
     "output_type": "stream",
     "text": [
      "Exemplo 1:  ['p', 'y', 't', 'h', 'o', 'n']\n",
      "Exemplo 2:  [0, 1, 4, 9, 16, 25, 36, 49, 64, 81, 100]\n",
      "Exemplo 3:  [18, 22, 100, 168, 2, 6, 500, 24, 72]\n",
      "Exemplo 4:  [32.0, 72.5, 104.0, 212.0]\n"
     ]
    }
   ],
   "source": [
    "# List Comprehension: melhor desempenho\n",
    "# A sua notação pode ser um pouco mais dificil para o entendimento\n",
    "palavra = [x for x in 'python'] \n",
    "print('Exemplo 1: ', palavra)\n",
    "potencia = [x**2 for x in range (0,11)]\n",
    "print('Exemplo 2: ', potencia)\n",
    "exemplo3 = [x for x in lista2 if x % 2 == 0] # Note que o resultado é o mesmo do filter, porém com uma unica linha de código\n",
    "print('Exemplo 3: ', exemplo3)\n",
    "exemplo4 = [((float(9)/5)*temp+32) for temp in temperatura] # Note que o resultado é o mesmo do MAP, mas com uma única linha de código\n",
    "print('Exemplo 4: ', exemplo4)"
   ]
  },
  {
   "cell_type": "code",
   "execution_count": 15,
   "metadata": {},
   "outputs": [
    {
     "name": "stdout",
     "output_type": "stream",
     "text": [
      "[(17, 18), (23, 92), (128, 30)]\n"
     ]
    }
   ],
   "source": [
    "# Função zip\n",
    "zip1 = [17, 23, 128] # Lista 1\n",
    "zip2 = [18, 92, 30] # Lista 2\n",
    "print(list(zip(zip1, zip2))) # A função zip cria 3 tuplas, juntando os valores de cadas lista \n",
    "# o número de elementos deve ser compatível, caso não seja o ZIP retornará até onde for compatível"
   ]
  },
  {
   "cell_type": "code",
   "execution_count": 19,
   "metadata": {},
   "outputs": [
    {
     "name": "stdout",
     "output_type": "stream",
     "text": [
      "[('a', 'c'), ('b', 'd')]\n",
      "[(1, 'c'), (2, 'd')]\n"
     ]
    }
   ],
   "source": [
    "# Função zip com dicionários\n",
    "dic1 = {'a':1, 'b':2}\n",
    "dic2 = {'c':4, 'd':5}\n",
    "ex_dic1 = list(zip(dic1, dic2)) # Faz a união pela chave, desconcidera o valor\n",
    "print(ex_dic1)\n",
    "ex_dic2 = list(zip(dic1.values(), dic2)) # o exemplo 2 mostra como trabalhar com os valores do dicionário usando \".values()\"\n",
    "print(ex_dic2)"
   ]
  },
  {
   "cell_type": "code",
   "execution_count": 20,
   "metadata": {},
   "outputs": [
    {
     "data": {
      "text/plain": [
       "[(0, 55),\n",
       " (1, 18),\n",
       " (2, 22),\n",
       " (3, 100),\n",
       " (4, 168),\n",
       " (5, 2),\n",
       " (6, 7),\n",
       " (7, 13),\n",
       " (8, 17),\n",
       " (9, 19),\n",
       " (10, 49),\n",
       " (11, 6),\n",
       " (12, 5),\n",
       " (13, 500),\n",
       " (14, 24),\n",
       " (15, 72),\n",
       " (16, 75),\n",
       " (17, 99)]"
      ]
     },
     "execution_count": 20,
     "metadata": {},
     "output_type": "execute_result"
    }
   ],
   "source": [
    "# Função Enumerate, cria uma tupla com o valor da lista e o valor do ínice\n",
    "list(enumerate (lista2))"
   ]
  },
  {
   "cell_type": "code",
   "execution_count": 22,
   "metadata": {},
   "outputs": [
    {
     "name": "stdout",
     "output_type": "stream",
     "text": [
      "0 55\n",
      "1 18\n",
      "2 22\n",
      "3 100\n",
      "4 168\n",
      "5 2\n",
      "6 7\n",
      "7 13\n",
      "8 17\n",
      "9 19\n",
      "10 49\n",
      "11 6\n",
      "12 5\n",
      "13 500\n",
      "14 24\n",
      "15 72\n",
      "16 75\n",
      "17 99\n"
     ]
    }
   ],
   "source": [
    "# usando um for, é posível ter uma saída em formato de tabela\n",
    "for indice, valor in enumerate (lista2):\n",
    "    print(indice, valor)"
   ]
  },
  {
   "cell_type": "code",
   "execution_count": 30,
   "metadata": {},
   "outputs": [
    {
     "name": "stdout",
     "output_type": "stream",
     "text": [
      "Digite um número:654\n",
      "Digite o divisor:0\n",
      "Valores inválidos para divisão.\n",
      "Fim da divisão.\n"
     ]
    }
   ],
   "source": [
    "# Try, Except e finally \n",
    "# Essa função pode ajudar o desenvolvedor a identificar que algo irá acontecer e impedir que o sistema trave\n",
    "# Exemplo, caso o usuário tente dividir algum número por 0, isso retornaria uma mensagem de erro e com o \"Try / Except \"\n",
    "# é posível prever isso e evitar que o erro ocorra.\n",
    "x = float(input('Digite um número:'))\n",
    "y= float(input('Digite o divisor:'))\n",
    "try:\n",
    "    divisao = x/y\n",
    "except ZeroDivisionError:\n",
    "    print(\"Valores inválidos para divisão.\")\n",
    "else:\n",
    "    print('O resultado da divisão é: ', divisao)\n",
    "# Após o else é possível implementar o bloco finally, ele serve para que um comando seja executado independente de qualquer coisa\n",
    "finally: \n",
    "    print('Fim da divisão.')"
   ]
  }
 ],
 "metadata": {
  "kernelspec": {
   "display_name": "Python 3",
   "language": "python",
   "name": "python3"
  },
  "language_info": {
   "codemirror_mode": {
    "name": "ipython",
    "version": 3
   },
   "file_extension": ".py",
   "mimetype": "text/x-python",
   "name": "python",
   "nbconvert_exporter": "python",
   "pygments_lexer": "ipython3",
   "version": "3.6.10"
  }
 },
 "nbformat": 4,
 "nbformat_minor": 4
}
