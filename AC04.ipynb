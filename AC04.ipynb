{
 "cells": [
  {
   "cell_type": "markdown",
   "metadata": {},
   "source": [
    "# Felipe Carvalho Pereira\n",
    "# RA: 1900614\n",
    "# E-mail: felipe.pereira@aluno.faculdadeimpacta.com.br\n",
    "__________________________________________________________________________________________________\n",
    "\n",
    "# João Vitor Peirera\n",
    "# RA:1801990\n",
    "# E-mail: joao.pereira@aluno.faculdadeimpacta.com.br\t\n",
    "___________________________________________________________________________________________________\n",
    "\n",
    "# Atividade continua 4 - Data Analytics"
   ]
  },
  {
   "cell_type": "code",
   "execution_count": 17,
   "metadata": {},
   "outputs": [],
   "source": [
    "import csv\n",
    "import pandas as pd\n",
    "import numpy as np\n",
    "import math\n",
    "%matplotlib inline\n",
    "import matplotlib.pyplot as plt\n",
    "from sklearn.cluster import KMeans, DBSCAN\n",
    "from sklearn.feature_extraction.text import TfidfVectorizer\n",
    "from sklearn.feature_extraction.text import CountVectorizer\n",
    "from sklearn.feature_extraction.text import CountVectorizer"
   ]
  },
  {
   "cell_type": "code",
   "execution_count": 10,
   "metadata": {},
   "outputs": [],
   "source": [
    "base = pd.read_csv('base.csv', encoding = 'UTF-8', sep = ',', header = 0)"
   ]
  },
  {
   "cell_type": "code",
   "execution_count": 4,
   "metadata": {},
   "outputs": [
    {
     "data": {
      "text/html": [
       "<div>\n",
       "<style scoped>\n",
       "    .dataframe tbody tr th:only-of-type {\n",
       "        vertical-align: middle;\n",
       "    }\n",
       "\n",
       "    .dataframe tbody tr th {\n",
       "        vertical-align: top;\n",
       "    }\n",
       "\n",
       "    .dataframe thead th {\n",
       "        text-align: right;\n",
       "    }\n",
       "</style>\n",
       "<table border=\"1\" class=\"dataframe\">\n",
       "  <thead>\n",
       "    <tr style=\"text-align: right;\">\n",
       "      <th></th>\n",
       "      <th>Channel</th>\n",
       "      <th>Region</th>\n",
       "      <th>Fresh</th>\n",
       "      <th>Milk</th>\n",
       "      <th>Grocery</th>\n",
       "      <th>Frozen</th>\n",
       "      <th>Detergents_Paper</th>\n",
       "      <th>Delicassen</th>\n",
       "    </tr>\n",
       "  </thead>\n",
       "  <tbody>\n",
       "    <tr>\n",
       "      <th>0</th>\n",
       "      <td>2</td>\n",
       "      <td>3</td>\n",
       "      <td>12669</td>\n",
       "      <td>9656</td>\n",
       "      <td>7561</td>\n",
       "      <td>214</td>\n",
       "      <td>2674</td>\n",
       "      <td>1338</td>\n",
       "    </tr>\n",
       "    <tr>\n",
       "      <th>1</th>\n",
       "      <td>2</td>\n",
       "      <td>3</td>\n",
       "      <td>7057</td>\n",
       "      <td>9810</td>\n",
       "      <td>9568</td>\n",
       "      <td>1762</td>\n",
       "      <td>3293</td>\n",
       "      <td>1776</td>\n",
       "    </tr>\n",
       "    <tr>\n",
       "      <th>2</th>\n",
       "      <td>2</td>\n",
       "      <td>3</td>\n",
       "      <td>6353</td>\n",
       "      <td>8808</td>\n",
       "      <td>7684</td>\n",
       "      <td>2405</td>\n",
       "      <td>3516</td>\n",
       "      <td>7844</td>\n",
       "    </tr>\n",
       "    <tr>\n",
       "      <th>3</th>\n",
       "      <td>1</td>\n",
       "      <td>3</td>\n",
       "      <td>13265</td>\n",
       "      <td>1196</td>\n",
       "      <td>4221</td>\n",
       "      <td>6404</td>\n",
       "      <td>507</td>\n",
       "      <td>1788</td>\n",
       "    </tr>\n",
       "    <tr>\n",
       "      <th>4</th>\n",
       "      <td>2</td>\n",
       "      <td>3</td>\n",
       "      <td>22615</td>\n",
       "      <td>5410</td>\n",
       "      <td>7198</td>\n",
       "      <td>3915</td>\n",
       "      <td>1777</td>\n",
       "      <td>5185</td>\n",
       "    </tr>\n",
       "    <tr>\n",
       "      <th>5</th>\n",
       "      <td>2</td>\n",
       "      <td>3</td>\n",
       "      <td>9413</td>\n",
       "      <td>8259</td>\n",
       "      <td>5126</td>\n",
       "      <td>666</td>\n",
       "      <td>1795</td>\n",
       "      <td>1451</td>\n",
       "    </tr>\n",
       "    <tr>\n",
       "      <th>6</th>\n",
       "      <td>2</td>\n",
       "      <td>3</td>\n",
       "      <td>12126</td>\n",
       "      <td>3199</td>\n",
       "      <td>6975</td>\n",
       "      <td>480</td>\n",
       "      <td>3140</td>\n",
       "      <td>545</td>\n",
       "    </tr>\n",
       "    <tr>\n",
       "      <th>7</th>\n",
       "      <td>2</td>\n",
       "      <td>3</td>\n",
       "      <td>7579</td>\n",
       "      <td>4956</td>\n",
       "      <td>9426</td>\n",
       "      <td>1669</td>\n",
       "      <td>3321</td>\n",
       "      <td>2566</td>\n",
       "    </tr>\n",
       "    <tr>\n",
       "      <th>8</th>\n",
       "      <td>1</td>\n",
       "      <td>3</td>\n",
       "      <td>5963</td>\n",
       "      <td>3648</td>\n",
       "      <td>6192</td>\n",
       "      <td>425</td>\n",
       "      <td>1716</td>\n",
       "      <td>750</td>\n",
       "    </tr>\n",
       "    <tr>\n",
       "      <th>9</th>\n",
       "      <td>2</td>\n",
       "      <td>3</td>\n",
       "      <td>6006</td>\n",
       "      <td>11093</td>\n",
       "      <td>18881</td>\n",
       "      <td>1159</td>\n",
       "      <td>7425</td>\n",
       "      <td>2098</td>\n",
       "    </tr>\n",
       "    <tr>\n",
       "      <th>10</th>\n",
       "      <td>2</td>\n",
       "      <td>3</td>\n",
       "      <td>3366</td>\n",
       "      <td>5403</td>\n",
       "      <td>12974</td>\n",
       "      <td>4400</td>\n",
       "      <td>5977</td>\n",
       "      <td>1744</td>\n",
       "    </tr>\n",
       "    <tr>\n",
       "      <th>11</th>\n",
       "      <td>2</td>\n",
       "      <td>3</td>\n",
       "      <td>13146</td>\n",
       "      <td>1124</td>\n",
       "      <td>4523</td>\n",
       "      <td>1420</td>\n",
       "      <td>549</td>\n",
       "      <td>497</td>\n",
       "    </tr>\n",
       "    <tr>\n",
       "      <th>12</th>\n",
       "      <td>2</td>\n",
       "      <td>3</td>\n",
       "      <td>31714</td>\n",
       "      <td>12319</td>\n",
       "      <td>11757</td>\n",
       "      <td>287</td>\n",
       "      <td>3881</td>\n",
       "      <td>2931</td>\n",
       "    </tr>\n",
       "    <tr>\n",
       "      <th>13</th>\n",
       "      <td>2</td>\n",
       "      <td>3</td>\n",
       "      <td>21217</td>\n",
       "      <td>6208</td>\n",
       "      <td>14982</td>\n",
       "      <td>3095</td>\n",
       "      <td>6707</td>\n",
       "      <td>602</td>\n",
       "    </tr>\n",
       "    <tr>\n",
       "      <th>14</th>\n",
       "      <td>2</td>\n",
       "      <td>3</td>\n",
       "      <td>24653</td>\n",
       "      <td>9465</td>\n",
       "      <td>12091</td>\n",
       "      <td>294</td>\n",
       "      <td>5058</td>\n",
       "      <td>2168</td>\n",
       "    </tr>\n",
       "    <tr>\n",
       "      <th>15</th>\n",
       "      <td>1</td>\n",
       "      <td>3</td>\n",
       "      <td>10253</td>\n",
       "      <td>1114</td>\n",
       "      <td>3821</td>\n",
       "      <td>397</td>\n",
       "      <td>964</td>\n",
       "      <td>412</td>\n",
       "    </tr>\n",
       "    <tr>\n",
       "      <th>16</th>\n",
       "      <td>2</td>\n",
       "      <td>3</td>\n",
       "      <td>1020</td>\n",
       "      <td>8816</td>\n",
       "      <td>12121</td>\n",
       "      <td>134</td>\n",
       "      <td>4508</td>\n",
       "      <td>1080</td>\n",
       "    </tr>\n",
       "    <tr>\n",
       "      <th>17</th>\n",
       "      <td>1</td>\n",
       "      <td>3</td>\n",
       "      <td>5876</td>\n",
       "      <td>6157</td>\n",
       "      <td>2933</td>\n",
       "      <td>839</td>\n",
       "      <td>370</td>\n",
       "      <td>4478</td>\n",
       "    </tr>\n",
       "    <tr>\n",
       "      <th>18</th>\n",
       "      <td>2</td>\n",
       "      <td>3</td>\n",
       "      <td>18601</td>\n",
       "      <td>6327</td>\n",
       "      <td>10099</td>\n",
       "      <td>2205</td>\n",
       "      <td>2767</td>\n",
       "      <td>3181</td>\n",
       "    </tr>\n",
       "    <tr>\n",
       "      <th>19</th>\n",
       "      <td>1</td>\n",
       "      <td>3</td>\n",
       "      <td>7780</td>\n",
       "      <td>2495</td>\n",
       "      <td>9464</td>\n",
       "      <td>669</td>\n",
       "      <td>2518</td>\n",
       "      <td>501</td>\n",
       "    </tr>\n",
       "  </tbody>\n",
       "</table>\n",
       "</div>"
      ],
      "text/plain": [
       "    Channel  Region  Fresh   Milk  Grocery  Frozen  Detergents_Paper  \\\n",
       "0         2       3  12669   9656     7561     214              2674   \n",
       "1         2       3   7057   9810     9568    1762              3293   \n",
       "2         2       3   6353   8808     7684    2405              3516   \n",
       "3         1       3  13265   1196     4221    6404               507   \n",
       "4         2       3  22615   5410     7198    3915              1777   \n",
       "5         2       3   9413   8259     5126     666              1795   \n",
       "6         2       3  12126   3199     6975     480              3140   \n",
       "7         2       3   7579   4956     9426    1669              3321   \n",
       "8         1       3   5963   3648     6192     425              1716   \n",
       "9         2       3   6006  11093    18881    1159              7425   \n",
       "10        2       3   3366   5403    12974    4400              5977   \n",
       "11        2       3  13146   1124     4523    1420               549   \n",
       "12        2       3  31714  12319    11757     287              3881   \n",
       "13        2       3  21217   6208    14982    3095              6707   \n",
       "14        2       3  24653   9465    12091     294              5058   \n",
       "15        1       3  10253   1114     3821     397               964   \n",
       "16        2       3   1020   8816    12121     134              4508   \n",
       "17        1       3   5876   6157     2933     839               370   \n",
       "18        2       3  18601   6327    10099    2205              2767   \n",
       "19        1       3   7780   2495     9464     669              2518   \n",
       "\n",
       "    Delicassen  \n",
       "0         1338  \n",
       "1         1776  \n",
       "2         7844  \n",
       "3         1788  \n",
       "4         5185  \n",
       "5         1451  \n",
       "6          545  \n",
       "7         2566  \n",
       "8          750  \n",
       "9         2098  \n",
       "10        1744  \n",
       "11         497  \n",
       "12        2931  \n",
       "13         602  \n",
       "14        2168  \n",
       "15         412  \n",
       "16        1080  \n",
       "17        4478  \n",
       "18        3181  \n",
       "19         501  "
      ]
     },
     "execution_count": 4,
     "metadata": {},
     "output_type": "execute_result"
    }
   ],
   "source": [
    "# 2. (1,0) Exiba a base de dados no Jupyter.\n",
    "base.head(20)"
   ]
  },
  {
   "cell_type": "code",
   "execution_count": 6,
   "metadata": {},
   "outputs": [
    {
     "data": {
      "image/png": "[encoded data removed]",
      "text/plain": [
       "<Figure size 504x504 with 1 Axes>"
      ]
     },
     "metadata": {
      "needs_background": "light"
     },
     "output_type": "display_data"
    }
   ],
   "source": [
    "# Questão 3\n",
    "x = base.Milk.values\n",
    "y = base.Channel.values\n",
    "grafico1 = KMeans(n_clusters=2)\n",
    "grupos = grafico1.fit_predict(base[['Milk','Channel']].values)\n",
    "plt.figure(figsize=(7,7))\n",
    "plt.scatter(x, y, c=grupos);\n",
    "plt.title(\"Milk x Channel: KMeans\")\n",
    "plt.scatter(grafico1.cluster_centers_[:, 0],grafico1.cluster_centers_[:,1], c='red');"
   ]
  },
  {
   "cell_type": "markdown",
   "metadata": {},
   "source": [
    "# Questão 3\n",
    "Usando o KMeans, podemos provar que o canal 1(o setor de hospitalidade) tem um gasto anual com produtos lácteos mais homogeneo e em menor escala se comparado com o varejo que é o canal 2.\n",
    "O canal 2 possui uma frequencia menor na base e apresenta maior um gasto médio com produtos lácteos maior."
   ]
  },
  {
   "cell_type": "code",
   "execution_count": 8,
   "metadata": {},
   "outputs": [
    {
     "data": {
      "text/plain": [
       "Text(0.5, 1.0, 'Fresh x Region: DBSCAN')"
      ]
     },
     "execution_count": 8,
     "metadata": {},
     "output_type": "execute_result"
    },
    {
     "data": {
      "image/png": "[encoded data removed]",
      "text/plain": [
       "<Figure size 504x504 with 1 Axes>"
      ]
     },
     "metadata": {
      "needs_background": "light"
     },
     "output_type": "display_data"
    }
   ],
   "source": [
    "# Questão 4\n",
    "x = base.Fresh.values\n",
    "y = base.Region.values\n",
    "grafico2 = DBSCAN(eps=.3, min_samples=2)\n",
    "grupos = grafico2.fit_predict(base[['Fresh','Region']].values)\n",
    "plt.figure(figsize=(7,7))\n",
    "plt.scatter(x,y,c=grupos);\n",
    "plt.title(\"Fresh x Region: DBSCAN\")"
   ]
  },
  {
   "cell_type": "markdown",
   "metadata": {},
   "source": [
    "Questão 4:\n",
    "Usamos o DBSCAN para comparar o gasto anual com produtos frescos.\n",
    "Regição 1(Lisboa): Em uma comparação mais justa(Região 1 x Região 2), podemos dizer que a região de Lisboa possui uma média anual maior de consumo nos produtos frescos.\n",
    "Região 2(Porto): Consumo mais homogêneo, praticamente sem outliers. \n",
    "Região 3(Outra Região): possui uma frequencia maior na base, pelo fato de englobar mais de uma cidade. É a regição mais dificil de prever o seu comportamento, possuie resultados mais variados."
   ]
  },
  {
   "cell_type": "code",
   "execution_count": 13,
   "metadata": {},
   "outputs": [],
   "source": [
    "corpus = [\"Go until jurong point, crazy.. Available only\",\n",
    "\"Ok lar... Joking wif u oni.\",\n",
    "\"Free entry in 2 a wkly comp to win FA Cup fina\",\n",
    "\"U dun say so early hor... U c already then say\",\n",
    "\"Nah I don't think he goes to usf, he lives aro\",\n",
    "\"FreeMsg Hey there darling it's been 3 week's n\"]"
   ]
  },
  {
   "cell_type": "code",
   "execution_count": 14,
   "metadata": {},
   "outputs": [],
   "source": [
    "# Questão 1\n",
    "bag_of_words = CountVectorizer(stop_words =['Go', 'wif', 'win', 'to', 'so', 'goes', 'been', 'he'])"
   ]
  },
  {
   "cell_type": "code",
   "execution_count": 15,
   "metadata": {},
   "outputs": [
    {
     "name": "stdout",
     "output_type": "stream",
     "text": [
      "[[0 0 1 0 1 0 0 0 0 0 0 0 0 0 0 1 0 0 0 0 0 1 0 0 0 0 0 1 1 0 0 0 0 1 0 0\n",
      "  0]\n",
      " [0 0 0 0 0 0 0 0 0 0 0 0 0 0 0 0 0 0 0 0 1 0 1 0 0 1 1 0 0 0 0 0 0 0 0 0\n",
      "  0]\n",
      " [0 0 0 1 0 1 0 0 0 0 1 1 1 1 0 0 0 0 1 0 0 0 0 0 0 0 0 0 0 0 0 0 0 0 0 0\n",
      "  1]\n",
      " [1 0 0 0 0 0 0 0 1 1 0 0 0 0 0 0 0 1 0 0 0 0 0 0 0 0 0 0 0 2 1 0 0 0 0 0\n",
      "  0]\n",
      " [0 1 0 0 0 0 0 1 0 0 0 0 0 0 0 0 0 0 0 0 0 0 0 1 1 0 0 0 0 0 0 0 1 0 1 0\n",
      "  0]\n",
      " [0 0 0 0 0 0 1 0 0 0 0 0 0 0 1 0 1 0 0 1 0 0 0 0 0 0 0 0 0 0 0 1 0 0 0 1\n",
      "  0]]\n"
     ]
    },
    {
     "name": "stderr",
     "output_type": "stream",
     "text": [
      "C:\\Users\\User\\Anaconda3\\lib\\site-packages\\sklearn\\feature_extraction\\text.py:385: UserWarning: Your stop_words may be inconsistent with your preprocessing. Tokenizing the stop words generated tokens ['go'] not in stop_words.\n",
      "  'stop_words.' % sorted(inconsistent))\n"
     ]
    }
   ],
   "source": [
    "# Questão 2\n",
    "dados = bag_of_words.fit_transform(corpus)\n",
    "print(dados.toarray())"
   ]
  },
  {
   "cell_type": "code",
   "execution_count": 18,
   "metadata": {},
   "outputs": [
    {
     "name": "stdout",
     "output_type": "stream",
     "text": [
      "[[0 0 1 0 1 0 0 0 0 0 0 0 0 0 0 1 0 0 0 0 0 1 0 0 0 0 0 1 1 0 0 0 0 1 0 0\n",
      "  0]\n",
      " [0 0 0 0 0 0 0 0 0 0 0 0 0 0 0 0 0 0 0 0 1 0 1 0 0 1 1 0 0 0 0 0 0 0 0 0\n",
      "  0]\n",
      " [0 0 0 1 0 1 0 0 0 0 1 1 1 1 0 0 0 0 1 0 0 0 0 0 0 0 0 0 0 0 0 0 0 0 0 0\n",
      "  1]\n",
      " [1 0 0 0 0 0 0 0 1 1 0 0 0 0 0 0 0 1 0 0 0 0 0 0 0 0 0 0 0 2 1 0 0 0 0 0\n",
      "  0]\n",
      " [0 1 0 0 0 0 0 1 0 0 0 0 0 0 0 0 0 0 0 0 0 0 0 1 1 0 0 0 0 0 0 0 1 0 1 0\n",
      "  0]\n",
      " [0 0 0 0 0 0 1 0 0 0 0 0 0 0 1 0 1 0 0 1 0 0 0 0 0 0 0 0 0 0 0 1 0 0 0 1\n",
      "  0]]\n"
     ]
    }
   ],
   "source": [
    "# Questão 3\n",
    "np.set_printoptions(precision=2)\n",
    "x = dados.toarray()\n",
    "print(x)"
   ]
  }
 ],
 "metadata": {
  "kernelspec": {
   "display_name": "Python 3",
   "language": "python",
   "name": "python3"
  },
  "language_info": {
   "codemirror_mode": {
    "name": "ipython",
    "version": 3
   },
   "file_extension": ".py",
   "mimetype": "text/x-python",
   "name": "python",
   "nbconvert_exporter": "python",
   "pygments_lexer": "ipython3",
   "version": "3.6.10"
  }
 },
 "nbformat": 4,
 "nbformat_minor": 4
}
